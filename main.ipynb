{
  "nbformat": 4,
  "nbformat_minor": 0,
  "metadata": {
    "colab": {
      "name": "Copy of Untitled0.ipynb",
      "provenance": [],
      "collapsed_sections": []
    },
    "kernelspec": {
      "name": "python3",
      "display_name": "Python 3"
    }
  },
  "cells": [
    {
      "cell_type": "code",
      "metadata": {
        "id": "j_faVGCUCjYD"
      },
      "source": [
        "import pandas as pd\r\n",
        "import numpy as np\r\n",
        "import seaborn as sns\r\n",
        "import matplotlib.pyplot as plt\r\n",
        "from sklearn.linear_model import LinearRegression\r\n",
        "from sklearn.model_selection import train_test_split, cross_val_score\r\n",
        "from sklearn.metrics import mean_squared_error\r\n",
        "from sklearn.linear_model import LogisticRegression\r\n",
        "from sklearn.model_selection import train_test_split\r\n",
        "from sklearn.preprocessing import StandardScaler\r\n",
        "from sklearn import preprocessing\r\n",
        "import statsmodels.formula.api as smf\r\n",
        "from sklearn.preprocessing import LabelEncoder\r\n",
        "from sklearn.preprocessing import OneHotEncoder\r\n",
        "from sklearn import linear_model\r\n"
      ],
      "execution_count": 35,
      "outputs": []
    },
    {
      "cell_type": "code",
      "metadata": {
        "colab": {
          "base_uri": "https://localhost:8080/",
          "height": 215
        },
        "id": "_-zoQQNEEUG1",
        "outputId": "edc10c1f-1acf-42cb-9b68-9e5646fbf00d"
      },
      "source": [
        "houses = pd.read_csv(\"kc_house_data.csv\")\r\n",
        "houses.head()"
      ],
      "execution_count": 126,
      "outputs": [
        {
          "output_type": "execute_result",
          "data": {
            "text/html": [
              "<div>\n",
              "<style scoped>\n",
              "    .dataframe tbody tr th:only-of-type {\n",
              "        vertical-align: middle;\n",
              "    }\n",
              "\n",
              "    .dataframe tbody tr th {\n",
              "        vertical-align: top;\n",
              "    }\n",
              "\n",
              "    .dataframe thead th {\n",
              "        text-align: right;\n",
              "    }\n",
              "</style>\n",
              "<table border=\"1\" class=\"dataframe\">\n",
              "  <thead>\n",
              "    <tr style=\"text-align: right;\">\n",
              "      <th></th>\n",
              "      <th>id</th>\n",
              "      <th>date</th>\n",
              "      <th>price</th>\n",
              "      <th>bedrooms</th>\n",
              "      <th>bathrooms</th>\n",
              "      <th>sqft_living</th>\n",
              "      <th>sqft_lot</th>\n",
              "      <th>floors</th>\n",
              "      <th>waterfront</th>\n",
              "      <th>view</th>\n",
              "      <th>condition</th>\n",
              "      <th>grade</th>\n",
              "      <th>sqft_above</th>\n",
              "      <th>sqft_basement</th>\n",
              "      <th>yr_built</th>\n",
              "      <th>yr_renovated</th>\n",
              "      <th>zipcode</th>\n",
              "      <th>lat</th>\n",
              "      <th>long</th>\n",
              "      <th>sqft_living15</th>\n",
              "      <th>sqft_lot15</th>\n",
              "    </tr>\n",
              "  </thead>\n",
              "  <tbody>\n",
              "    <tr>\n",
              "      <th>0</th>\n",
              "      <td>7129300520</td>\n",
              "      <td>20141013T000000</td>\n",
              "      <td>221900.0</td>\n",
              "      <td>3</td>\n",
              "      <td>1.00</td>\n",
              "      <td>1180</td>\n",
              "      <td>5650</td>\n",
              "      <td>1.0</td>\n",
              "      <td>0</td>\n",
              "      <td>0</td>\n",
              "      <td>3</td>\n",
              "      <td>7</td>\n",
              "      <td>1180</td>\n",
              "      <td>0</td>\n",
              "      <td>1955</td>\n",
              "      <td>0</td>\n",
              "      <td>98178</td>\n",
              "      <td>47.5112</td>\n",
              "      <td>-122.257</td>\n",
              "      <td>1340</td>\n",
              "      <td>5650</td>\n",
              "    </tr>\n",
              "    <tr>\n",
              "      <th>1</th>\n",
              "      <td>6414100192</td>\n",
              "      <td>20141209T000000</td>\n",
              "      <td>538000.0</td>\n",
              "      <td>3</td>\n",
              "      <td>2.25</td>\n",
              "      <td>2570</td>\n",
              "      <td>7242</td>\n",
              "      <td>2.0</td>\n",
              "      <td>0</td>\n",
              "      <td>0</td>\n",
              "      <td>3</td>\n",
              "      <td>7</td>\n",
              "      <td>2170</td>\n",
              "      <td>400</td>\n",
              "      <td>1951</td>\n",
              "      <td>1991</td>\n",
              "      <td>98125</td>\n",
              "      <td>47.7210</td>\n",
              "      <td>-122.319</td>\n",
              "      <td>1690</td>\n",
              "      <td>7639</td>\n",
              "    </tr>\n",
              "    <tr>\n",
              "      <th>2</th>\n",
              "      <td>5631500400</td>\n",
              "      <td>20150225T000000</td>\n",
              "      <td>180000.0</td>\n",
              "      <td>2</td>\n",
              "      <td>1.00</td>\n",
              "      <td>770</td>\n",
              "      <td>10000</td>\n",
              "      <td>1.0</td>\n",
              "      <td>0</td>\n",
              "      <td>0</td>\n",
              "      <td>3</td>\n",
              "      <td>6</td>\n",
              "      <td>770</td>\n",
              "      <td>0</td>\n",
              "      <td>1933</td>\n",
              "      <td>0</td>\n",
              "      <td>98028</td>\n",
              "      <td>47.7379</td>\n",
              "      <td>-122.233</td>\n",
              "      <td>2720</td>\n",
              "      <td>8062</td>\n",
              "    </tr>\n",
              "    <tr>\n",
              "      <th>3</th>\n",
              "      <td>2487200875</td>\n",
              "      <td>20141209T000000</td>\n",
              "      <td>604000.0</td>\n",
              "      <td>4</td>\n",
              "      <td>3.00</td>\n",
              "      <td>1960</td>\n",
              "      <td>5000</td>\n",
              "      <td>1.0</td>\n",
              "      <td>0</td>\n",
              "      <td>0</td>\n",
              "      <td>5</td>\n",
              "      <td>7</td>\n",
              "      <td>1050</td>\n",
              "      <td>910</td>\n",
              "      <td>1965</td>\n",
              "      <td>0</td>\n",
              "      <td>98136</td>\n",
              "      <td>47.5208</td>\n",
              "      <td>-122.393</td>\n",
              "      <td>1360</td>\n",
              "      <td>5000</td>\n",
              "    </tr>\n",
              "    <tr>\n",
              "      <th>4</th>\n",
              "      <td>1954400510</td>\n",
              "      <td>20150218T000000</td>\n",
              "      <td>510000.0</td>\n",
              "      <td>3</td>\n",
              "      <td>2.00</td>\n",
              "      <td>1680</td>\n",
              "      <td>8080</td>\n",
              "      <td>1.0</td>\n",
              "      <td>0</td>\n",
              "      <td>0</td>\n",
              "      <td>3</td>\n",
              "      <td>8</td>\n",
              "      <td>1680</td>\n",
              "      <td>0</td>\n",
              "      <td>1987</td>\n",
              "      <td>0</td>\n",
              "      <td>98074</td>\n",
              "      <td>47.6168</td>\n",
              "      <td>-122.045</td>\n",
              "      <td>1800</td>\n",
              "      <td>7503</td>\n",
              "    </tr>\n",
              "  </tbody>\n",
              "</table>\n",
              "</div>"
            ],
            "text/plain": [
              "           id             date     price  ...     long  sqft_living15  sqft_lot15\n",
              "0  7129300520  20141013T000000  221900.0  ... -122.257           1340        5650\n",
              "1  6414100192  20141209T000000  538000.0  ... -122.319           1690        7639\n",
              "2  5631500400  20150225T000000  180000.0  ... -122.233           2720        8062\n",
              "3  2487200875  20141209T000000  604000.0  ... -122.393           1360        5000\n",
              "4  1954400510  20150218T000000  510000.0  ... -122.045           1800        7503\n",
              "\n",
              "[5 rows x 21 columns]"
            ]
          },
          "metadata": {
            "tags": []
          },
          "execution_count": 126
        }
      ]
    },
    {
      "cell_type": "code",
      "metadata": {
        "colab": {
          "base_uri": "https://localhost:8080/"
        },
        "id": "WXFv-oA0E8iq",
        "outputId": "0beab673-e3bd-4bc4-8ae6-198f2ee8b941"
      },
      "source": [
        "houses.isnull().sum()"
      ],
      "execution_count": 79,
      "outputs": [
        {
          "output_type": "execute_result",
          "data": {
            "text/plain": [
              "id               0\n",
              "date             0\n",
              "price            0\n",
              "bedrooms         0\n",
              "bathrooms        0\n",
              "sqft_living      0\n",
              "sqft_lot         0\n",
              "floors           0\n",
              "waterfront       0\n",
              "view             0\n",
              "condition        0\n",
              "grade            0\n",
              "sqft_above       0\n",
              "sqft_basement    0\n",
              "yr_built         0\n",
              "yr_renovated     0\n",
              "zipcode          0\n",
              "lat              0\n",
              "long             0\n",
              "sqft_living15    0\n",
              "sqft_lot15       0\n",
              "dtype: int64"
            ]
          },
          "metadata": {
            "tags": []
          },
          "execution_count": 79
        }
      ]
    },
    {
      "cell_type": "code",
      "metadata": {
        "colab": {
          "base_uri": "https://localhost:8080/",
          "height": 686
        },
        "id": "VMYPrJniFSXT",
        "outputId": "8bb7c5b1-4e01-45d3-fea0-a047948a1a88"
      },
      "source": [
        "corr = houses.corr()\r\n",
        "sns.heatmap(corr)\r\n",
        "print(corr['price'])"
      ],
      "execution_count": 80,
      "outputs": [
        {
          "output_type": "stream",
          "text": [
            "id              -0.016762\n",
            "price            1.000000\n",
            "bedrooms         0.308350\n",
            "bathrooms        0.525138\n",
            "sqft_living      0.702035\n",
            "sqft_lot         0.089661\n",
            "floors           0.256794\n",
            "waterfront       0.266369\n",
            "view             0.397293\n",
            "condition        0.036362\n",
            "grade            0.667434\n",
            "sqft_above       0.605567\n",
            "sqft_basement    0.323816\n",
            "yr_built         0.054012\n",
            "yr_renovated     0.126434\n",
            "zipcode         -0.053203\n",
            "lat              0.307003\n",
            "long             0.021626\n",
            "sqft_living15    0.585379\n",
            "sqft_lot15       0.082447\n",
            "Name: price, dtype: float64\n"
          ],
          "name": "stdout"
        },
        {
          "output_type": "display_data",
          "data": {
            "image/png": "[encoded data removed]",
            "text/plain": [
              "<Figure size 432x288 with 2 Axes>"
            ]
          },
          "metadata": {
            "tags": [],
            "needs_background": "light"
          }
        }
      ]
    },
    {
      "cell_type": "code",
      "metadata": {
        "id": "8J5N_wfSABxj",
        "colab": {
          "base_uri": "https://localhost:8080/"
        },
        "outputId": "ed8096aa-c762-4608-92ab-cc3d80147f88"
      },
      "source": [
        "feature_cols=(corr['price'].to_dict())\n",
        "# print(feature_cols)\n",
        "feature_cols=dict(sorted(feature_cols.items(), key=lambda item: item[1],reverse=True))\n",
        "feature_cols.pop('price')\n",
        "print(feature_cols)"
      ],
      "execution_count": 81,
      "outputs": [
        {
          "output_type": "stream",
          "text": [
            "{'sqft_living': 0.7020350546118009, 'grade': 0.667434256020255, 'sqft_above': 0.6055672983560842, 'sqft_living15': 0.5853789035795697, 'bathrooms': 0.5251375054139724, 'view': 0.3972934882944871, 'sqft_basement': 0.323816020712004, 'bedrooms': 0.3083495981456364, 'lat': 0.307003479995218, 'waterfront': 0.26636943403055346, 'floors': 0.25679388755070176, 'yr_renovated': 0.12643379344092243, 'sqft_lot': 0.08966086058710003, 'sqft_lot15': 0.08244715251948594, 'yr_built': 0.05401153149478604, 'condition': 0.03636178912899409, 'long': 0.02162624103930622, 'id': -0.016762196614445113, 'zipcode': -0.05320285429832495}\n"
          ],
          "name": "stdout"
        }
      ]
    },
    {
      "cell_type": "code",
      "metadata": {
        "colab": {
          "base_uri": "https://localhost:8080/"
        },
        "id": "VcVXLNSCGAV9",
        "outputId": "8c6974b6-1035-4f4d-8899-fb6b71a46488"
      },
      "source": [
        "model = smf.ols('sqft_living ~ price', data=houses).fit()\n",
        "print(model.summary())\n",
        "print(model.pvalues)"
      ],
      "execution_count": 82,
      "outputs": [
        {
          "output_type": "stream",
          "text": [
            "                            OLS Regression Results                            \n",
            "==============================================================================\n",
            "Dep. Variable:            sqft_living   R-squared:                       0.493\n",
            "Model:                            OLS   Adj. R-squared:                  0.493\n",
            "Method:                 Least Squares   F-statistic:                 2.100e+04\n",
            "Date:                Thu, 11 Mar 2021   Prob (F-statistic):               0.00\n",
            "Time:                        07:30:44   Log-Likelihood:            -1.7079e+05\n",
            "No. Observations:               21613   AIC:                         3.416e+05\n",
            "Df Residuals:                   21611   BIC:                         3.416e+05\n",
            "Df Model:                           1                                         \n",
            "Covariance Type:            nonrobust                                         \n",
            "==============================================================================\n",
            "                 coef    std err          t      P>|t|      [0.025      0.975]\n",
            "------------------------------------------------------------------------------\n",
            "Intercept   1131.3544      7.914    142.952      0.000    1115.842    1146.867\n",
            "price          0.0018   1.21e-05    144.920      0.000       0.002       0.002\n",
            "==============================================================================\n",
            "Omnibus:                     2822.488   Durbin-Watson:                   1.981\n",
            "Prob(Omnibus):                  0.000   Jarque-Bera (JB):             8775.507\n",
            "Skew:                           0.683   Prob(JB):                         0.00\n",
            "Kurtosis:                       5.807   Cond. No.                     1.16e+06\n",
            "==============================================================================\n",
            "\n",
            "Warnings:\n",
            "[1] Standard Errors assume that the covariance matrix of the errors is correctly specified.\n",
            "[2] The condition number is large, 1.16e+06. This might indicate that there are\n",
            "strong multicollinearity or other numerical problems.\n",
            "Intercept    0.0\n",
            "price        0.0\n",
            "dtype: float64\n"
          ],
          "name": "stdout"
        }
      ]
    },
    {
      "cell_type": "code",
      "metadata": {
        "id": "uxcOB5aWFpjh"
      },
      "source": [
        "feature_cols = ['sqft_living','grade','sqft_above','sqft_living15','bathrooms','floors']\r\n",
        "test=houses[0:5]\r\n",
        "x = houses[feature_cols]\r\n",
        "y = houses.price"
      ],
      "execution_count": 127,
      "outputs": []
    },
    {
      "cell_type": "code",
      "metadata": {
        "id": "EWMkonbmF0mw"
      },
      "source": [
        "x_train, x_val, y_train, y_val = train_test_split(x, y, test_size=0.2)\n",
        "x_val, x_test, y_val, y_test = train_test_split(x_val, y_val, test_size=0.2) "
      ],
      "execution_count": 128,
      "outputs": []
    },
    {
      "cell_type": "markdown",
      "metadata": {
        "id": "q1lwO4MYEbSW"
      },
      "source": [
        "## New section"
      ]
    },
    {
      "cell_type": "code",
      "metadata": {
        "id": "A7MsO-X4HSY5"
      },
      "source": [
        "def run_linearRegression():\r\n",
        "    linreg = LinearRegression()\r\n",
        "    linreg.fit(x_train, y_train)\r\n",
        "    mse=mean_squared_error(linreg.predict(x_test),y_test)\r\n",
        "    # coef=linreg.coef_\r\n",
        "    # interc=linreg.intercept_\r\n",
        "    # print(\"parameters/weights/slope and intercept\")\r\n",
        "    # print(coef+\" = m\")\r\n",
        "    # print(interc+\" = c\")\r\n",
        "\r\n",
        "    yhat = linreg.predict(x_train)\r\n",
        "    SS_Residual = sum((y_train-yhat)**2)       \r\n",
        "    SS_Total = sum((y_train-np.mean(y_train))**2)     \r\n",
        "    r_squared = 1 - (float(SS_Residual))/SS_Total\r\n",
        "    adjusted_r_squared = 1 - (1-r_squared)*(len(y_train)-1)/(len(y_train)-x_train.shape[1]-1)\r\n",
        "\r\n",
        "    print(\"adjusted r_square for train\")\r\n",
        "    print(adjusted_r_squared)\r\n",
        "\r\n",
        "    print(np.sqrt(mse))\r\n",
        "    print(abs(linreg.score(x_test,y_test)))\r\n",
        "    mse=mean_squared_error(linreg.predict(x_train),y_train)\r\n",
        "    print(np.sqrt(mse))\r\n",
        "    print(abs(linreg.score(x_train,y_train)))"
      ],
      "execution_count": 151,
      "outputs": []
    },
    {
      "cell_type": "code",
      "metadata": {
        "colab": {
          "base_uri": "https://localhost:8080/"
        },
        "id": "mhlUMGteKqEj",
        "outputId": "9a2de78c-1f32-4c90-e1b9-168175517e7f"
      },
      "source": [
        "run_linearRegression()\n",
        "print(linreg.coef_)\n",
        "print(linreg.intercept_)"
      ],
      "execution_count": 154,
      "outputs": [
        {
          "output_type": "stream",
          "text": [
            "adjusted r_square for train\n",
            "0.5467189566648718\n",
            "261733.66186105635\n",
            "0.5511004354267612\n",
            "248604.7836785977\n",
            "0.5468762639851346\n",
            "[ 2.43647694e+02  1.12795729e+05 -7.84611398e+01  2.36905809e+01\n",
            " -3.57323058e+04 -3.69767522e+03]\n",
            "-655229.1626020859\n"
          ],
          "name": "stdout"
        }
      ]
    },
    {
      "cell_type": "code",
      "metadata": {
        "id": "lMqu9fpUEriz"
      },
      "source": [
        "def run_bayesianRidge():\n",
        "    reg = linear_model.BayesianRidge()\n",
        "    reg.fit(x_train,y_train)\n",
        "\n",
        "    mse=mean_squared_error(reg.predict(x_test),y_test)\n",
        "    print(np.sqrt(mse))\n",
        "    print(abs(reg.score(x_test,y_test)))\n",
        "    mse=mean_squared_error(reg.predict(x_train),y_train)\n",
        "    print(np.sqrt(mse))\n",
        "    print(abs(reg.score(x_train,y_train)))"
      ],
      "execution_count": 102,
      "outputs": []
    },
    {
      "cell_type": "code",
      "metadata": {
        "colab": {
          "base_uri": "https://localhost:8080/"
        },
        "id": "-B9tjEtDK6KB",
        "outputId": "cc125fe4-a71e-49e3-9e9e-412082160144"
      },
      "source": [
        "run_bayesianRidge()"
      ],
      "execution_count": 88,
      "outputs": [
        {
          "output_type": "stream",
          "text": [
            "248484.623669206\n",
            "0.4896175279787408\n",
            "249328.35349927453\n",
            "0.5492624521345149\n"
          ],
          "name": "stdout"
        }
      ]
    },
    {
      "cell_type": "code",
      "metadata": {
        "colab": {
          "base_uri": "https://localhost:8080/"
        },
        "id": "uaDV5wM3FPUN",
        "outputId": "62bacd05-7c80-4bc2-b4af-7321ac031ac6"
      },
      "source": [
        "enc=LabelEncoder()\n",
        "values=(x_train['floors'])\n",
        "# print(houses['floors'])\n",
        "integer_encoded = enc.fit_transform(values)\n",
        "print(integer_encoded)\n",
        "print(x_train['floors'])\n",
        "x_train=x_train.drop(['floors'],axis=1)\n",
        "x_train.insert(3,'floors',integer_encoded,allow_duplicates=True)"
      ],
      "execution_count": 98,
      "outputs": [
        {
          "output_type": "stream",
          "text": [
            "[4 0 0 ... 0 2 0]\n",
            "4486     3.0\n",
            "15148    1.0\n",
            "6064     1.0\n",
            "7984     1.0\n",
            "4601     1.0\n",
            "        ... \n",
            "4904     2.0\n",
            "15895    2.0\n",
            "329      1.0\n",
            "20984    2.0\n",
            "981      1.0\n",
            "Name: floors, Length: 17290, dtype: float64\n"
          ],
          "name": "stdout"
        }
      ]
    },
    {
      "cell_type": "code",
      "metadata": {
        "colab": {
          "base_uri": "https://localhost:8080/"
        },
        "id": "Pt1sUiAeMj-O",
        "outputId": "43576b4d-dc14-4c38-a62e-080a610096ea"
      },
      "source": [
        "print(x_train.columns)"
      ],
      "execution_count": 99,
      "outputs": [
        {
          "output_type": "stream",
          "text": [
            "Index(['sqft_living', 'grade', 'sqft_above', 'floors', 'sqft_living15',\n",
            "       'bathrooms'],\n",
            "      dtype='object')\n"
          ],
          "name": "stdout"
        }
      ]
    },
    {
      "cell_type": "code",
      "metadata": {
        "colab": {
          "base_uri": "https://localhost:8080/",
          "height": 354
        },
        "id": "0lFhWDXYIKYm",
        "outputId": "80b120eb-3fc2-4dac-d2f4-980d0693d8b1"
      },
      "source": [
        "run_linearRegression()\n",
        "print('\\n')\n",
        "run_bayesianRidge()"
      ],
      "execution_count": 121,
      "outputs": [
        {
          "output_type": "error",
          "ename": "ValueError",
          "evalue": "ignored",
          "traceback": [
            "\u001b[0;31m---------------------------------------------------------------------------\u001b[0m",
            "\u001b[0;31mValueError\u001b[0m                                Traceback (most recent call last)",
            "\u001b[0;32m<ipython-input-121-63152ba98ed7>\u001b[0m in \u001b[0;36m<module>\u001b[0;34m()\u001b[0m\n\u001b[0;32m----> 1\u001b[0;31m \u001b[0mrun_linearRegression\u001b[0m\u001b[0;34m(\u001b[0m\u001b[0;34m)\u001b[0m\u001b[0;34m\u001b[0m\u001b[0;34m\u001b[0m\u001b[0m\n\u001b[0m\u001b[1;32m      2\u001b[0m \u001b[0mprint\u001b[0m\u001b[0;34m(\u001b[0m\u001b[0;34m'\\n'\u001b[0m\u001b[0;34m)\u001b[0m\u001b[0;34m\u001b[0m\u001b[0;34m\u001b[0m\u001b[0m\n\u001b[1;32m      3\u001b[0m \u001b[0mrun_bayesianRidge\u001b[0m\u001b[0;34m(\u001b[0m\u001b[0;34m)\u001b[0m\u001b[0;34m\u001b[0m\u001b[0;34m\u001b[0m\u001b[0m\n",
            "\u001b[0;32m<ipython-input-120-5bc1962bdfe2>\u001b[0m in \u001b[0;36mrun_linearRegression\u001b[0;34m()\u001b[0m\n\u001b[1;32m      2\u001b[0m     \u001b[0mlinreg\u001b[0m \u001b[0;34m=\u001b[0m \u001b[0mLinearRegression\u001b[0m\u001b[0;34m(\u001b[0m\u001b[0;34m)\u001b[0m\u001b[0;34m\u001b[0m\u001b[0;34m\u001b[0m\u001b[0m\n\u001b[1;32m      3\u001b[0m     \u001b[0mlinreg\u001b[0m\u001b[0;34m.\u001b[0m\u001b[0mfit\u001b[0m\u001b[0;34m(\u001b[0m\u001b[0mx_train\u001b[0m\u001b[0;34m,\u001b[0m \u001b[0my_train\u001b[0m\u001b[0;34m)\u001b[0m\u001b[0;34m\u001b[0m\u001b[0;34m\u001b[0m\u001b[0m\n\u001b[0;32m----> 4\u001b[0;31m     \u001b[0mmse\u001b[0m\u001b[0;34m=\u001b[0m\u001b[0mmean_squared_error\u001b[0m\u001b[0;34m(\u001b[0m\u001b[0mlinreg\u001b[0m\u001b[0;34m.\u001b[0m\u001b[0mpredict\u001b[0m\u001b[0;34m(\u001b[0m\u001b[0mx_test\u001b[0m\u001b[0;34m)\u001b[0m\u001b[0;34m,\u001b[0m\u001b[0my_test\u001b[0m\u001b[0;34m)\u001b[0m\u001b[0;34m\u001b[0m\u001b[0;34m\u001b[0m\u001b[0m\n\u001b[0m\u001b[1;32m      5\u001b[0m \u001b[0;34m\u001b[0m\u001b[0m\n\u001b[1;32m      6\u001b[0m     \u001b[0myhat\u001b[0m \u001b[0;34m=\u001b[0m \u001b[0mmodel\u001b[0m\u001b[0;34m.\u001b[0m\u001b[0mpredict\u001b[0m\u001b[0;34m(\u001b[0m\u001b[0mx_train\u001b[0m\u001b[0;34m)\u001b[0m\u001b[0;34m\u001b[0m\u001b[0;34m\u001b[0m\u001b[0m\n",
            "\u001b[0;32m/usr/local/lib/python3.7/dist-packages/sklearn/linear_model/_base.py\u001b[0m in \u001b[0;36mpredict\u001b[0;34m(self, X)\u001b[0m\n\u001b[1;32m    223\u001b[0m             \u001b[0mReturns\u001b[0m \u001b[0mpredicted\u001b[0m \u001b[0mvalues\u001b[0m\u001b[0;34m.\u001b[0m\u001b[0;34m\u001b[0m\u001b[0;34m\u001b[0m\u001b[0m\n\u001b[1;32m    224\u001b[0m         \"\"\"\n\u001b[0;32m--> 225\u001b[0;31m         \u001b[0;32mreturn\u001b[0m \u001b[0mself\u001b[0m\u001b[0;34m.\u001b[0m\u001b[0m_decision_function\u001b[0m\u001b[0;34m(\u001b[0m\u001b[0mX\u001b[0m\u001b[0;34m)\u001b[0m\u001b[0;34m\u001b[0m\u001b[0;34m\u001b[0m\u001b[0m\n\u001b[0m\u001b[1;32m    226\u001b[0m \u001b[0;34m\u001b[0m\u001b[0m\n\u001b[1;32m    227\u001b[0m     \u001b[0m_preprocess_data\u001b[0m \u001b[0;34m=\u001b[0m \u001b[0mstaticmethod\u001b[0m\u001b[0;34m(\u001b[0m\u001b[0m_preprocess_data\u001b[0m\u001b[0;34m)\u001b[0m\u001b[0;34m\u001b[0m\u001b[0;34m\u001b[0m\u001b[0m\n",
            "\u001b[0;32m/usr/local/lib/python3.7/dist-packages/sklearn/linear_model/_base.py\u001b[0m in \u001b[0;36m_decision_function\u001b[0;34m(self, X)\u001b[0m\n\u001b[1;32m    207\u001b[0m         \u001b[0mX\u001b[0m \u001b[0;34m=\u001b[0m \u001b[0mcheck_array\u001b[0m\u001b[0;34m(\u001b[0m\u001b[0mX\u001b[0m\u001b[0;34m,\u001b[0m \u001b[0maccept_sparse\u001b[0m\u001b[0;34m=\u001b[0m\u001b[0;34m[\u001b[0m\u001b[0;34m'csr'\u001b[0m\u001b[0;34m,\u001b[0m \u001b[0;34m'csc'\u001b[0m\u001b[0;34m,\u001b[0m \u001b[0;34m'coo'\u001b[0m\u001b[0;34m]\u001b[0m\u001b[0;34m)\u001b[0m\u001b[0;34m\u001b[0m\u001b[0;34m\u001b[0m\u001b[0m\n\u001b[1;32m    208\u001b[0m         return safe_sparse_dot(X, self.coef_.T,\n\u001b[0;32m--> 209\u001b[0;31m                                dense_output=True) + self.intercept_\n\u001b[0m\u001b[1;32m    210\u001b[0m \u001b[0;34m\u001b[0m\u001b[0m\n\u001b[1;32m    211\u001b[0m     \u001b[0;32mdef\u001b[0m \u001b[0mpredict\u001b[0m\u001b[0;34m(\u001b[0m\u001b[0mself\u001b[0m\u001b[0;34m,\u001b[0m \u001b[0mX\u001b[0m\u001b[0;34m)\u001b[0m\u001b[0;34m:\u001b[0m\u001b[0;34m\u001b[0m\u001b[0;34m\u001b[0m\u001b[0m\n",
            "\u001b[0;32m/usr/local/lib/python3.7/dist-packages/sklearn/utils/extmath.py\u001b[0m in \u001b[0;36msafe_sparse_dot\u001b[0;34m(a, b, dense_output)\u001b[0m\n\u001b[1;32m    149\u001b[0m             \u001b[0mret\u001b[0m \u001b[0;34m=\u001b[0m \u001b[0mnp\u001b[0m\u001b[0;34m.\u001b[0m\u001b[0mdot\u001b[0m\u001b[0;34m(\u001b[0m\u001b[0ma\u001b[0m\u001b[0;34m,\u001b[0m \u001b[0mb\u001b[0m\u001b[0;34m)\u001b[0m\u001b[0;34m\u001b[0m\u001b[0;34m\u001b[0m\u001b[0m\n\u001b[1;32m    150\u001b[0m     \u001b[0;32melse\u001b[0m\u001b[0;34m:\u001b[0m\u001b[0;34m\u001b[0m\u001b[0;34m\u001b[0m\u001b[0m\n\u001b[0;32m--> 151\u001b[0;31m         \u001b[0mret\u001b[0m \u001b[0;34m=\u001b[0m \u001b[0ma\u001b[0m \u001b[0;34m@\u001b[0m \u001b[0mb\u001b[0m\u001b[0;34m\u001b[0m\u001b[0;34m\u001b[0m\u001b[0m\n\u001b[0m\u001b[1;32m    152\u001b[0m \u001b[0;34m\u001b[0m\u001b[0m\n\u001b[1;32m    153\u001b[0m     if (sparse.issparse(a) and sparse.issparse(b)\n",
            "\u001b[0;31mValueError\u001b[0m: matmul: Input operand 1 has a mismatch in its core dimension 0, with gufunc signature (n?,k),(k,m?)->(n?,m?) (size 7 is different from 6)"
          ]
        }
      ]
    },
    {
      "cell_type": "markdown",
      "metadata": {
        "id": "Egpmwq_nOjtd"
      },
      "source": [
        "# Gradient Descent"
      ]
    },
    {
      "cell_type": "code",
      "metadata": {
        "id": "acmzPARNLEdm"
      },
      "source": [
        "def get_data(data,features, output):\n",
        "    data['constant'] = 1\n",
        "    features = ['constant'] + features\n",
        "\n",
        "    features_new = data[features]\n",
        "    feature_matrix = np.asarray(features_new)\n",
        "    \n",
        "    output_data = data[output]\n",
        "    output_array = output_data.to_numpy()\n",
        "    return(feature_matrix,output_array)\n",
        "    \n",
        "def prediction(feature_matrix, weights):\n",
        "    predictions = np.dot(feature_matrix,weights)\n",
        "    return(predictions)\n",
        "\n",
        "def feature_derivative(errors,feature):\n",
        "    derivative = 2*(np.dot(errors,feature))\n",
        "    return(derivative)\n",
        "def regression_gradient_descent(feature_matrix, output, initial_weights, step_size, tolerance):\n",
        "    converged = False\n",
        "    weights = np.array(initial_weights)\n",
        "    while not converged:\n",
        "        predictions = prediction(feature_matrix,weights)\n",
        "        \n",
        "        errors = predictions - output\n",
        "        \n",
        "        gradient_sum_squares = 0\n",
        "        for i in range(len(weights)):\n",
        "            derivative = feature_derivative(errors,feature_matrix[:,i])\n",
        "            \n",
        "            gradient_sum_squares = derivative**2 + gradient_sum_squares\n",
        "            \n",
        "            # subtract the step size times the derivative from the current weight\n",
        "            weights = weights - step_size*(derivative)\n",
        "            \n",
        "            gradient_magnitude = np.sqrt(gradient_sum_squares)\n",
        "            if gradient_magnitude < tolerance:\n",
        "                converged = True\n",
        "    return(weights)  \n"
      ],
      "execution_count": 113,
      "outputs": []
    },
    {
      "cell_type": "code",
      "metadata": {
        "id": "rrnrGMYYO6Xp"
      },
      "source": [
        "(feature_matrix,output_array) = get_data(houses, ['sqft_living'],'price')\n",
        "initial_weights = np.array([-47000., 1.])\n",
        "predictions = prediction(feature_matrix, initial_weights)\n",
        "errors = output_array - predictions\n",
        "step_size = 7e-12\n",
        "tolerance = 2.5e7\n",
        "weights = regression_gradient_descent(feature_matrix, output_array, initial_weights, step_size, tolerance)"
      ],
      "execution_count": 114,
      "outputs": []
    },
    {
      "cell_type": "code",
      "metadata": {
        "colab": {
          "base_uri": "https://localhost:8080/"
        },
        "id": "o8iJXhe6PIJh",
        "outputId": "78d597a6-2cd9-4ca1-b88a-a9d65cc6bacc"
      },
      "source": [
        "print(weights)"
      ],
      "execution_count": 115,
      "outputs": [
        {
          "output_type": "stream",
          "text": [
            "[-46719.20958436    281.79041564]\n"
          ],
          "name": "stdout"
        }
      ]
    },
    {
      "cell_type": "code",
      "metadata": {
        "colab": {
          "base_uri": "https://localhost:8080/"
        },
        "id": "3hQroYIePZaF",
        "outputId": "61c07ceb-19d9-4b21-c81f-9d1811d786d3"
      },
      "source": [
        "(feature_matrix_test,output_array_test) = get_data(test, ['sqft_living'],'price')\n",
        "prediction_test = prediction(feature_matrix_test, weights)\n",
        "errors = output_array_test - prediction_test\n",
        "RSS_simple_GD = np.sum((errors)**2)\n",
        "print(\"RSS_simple_GD: \", np.sum((errors)**2))"
      ],
      "execution_count": 119,
      "outputs": [
        {
          "output_type": "stream",
          "text": [
            "RSS_simple_GD:  40257830247.25434\n"
          ],
          "name": "stdout"
        },
        {
          "output_type": "stream",
          "text": [
            "/usr/local/lib/python3.7/dist-packages/ipykernel_launcher.py:2: SettingWithCopyWarning: \n",
            "A value is trying to be set on a copy of a slice from a DataFrame.\n",
            "Try using .loc[row_indexer,col_indexer] = value instead\n",
            "\n",
            "See the caveats in the documentation: https://pandas.pydata.org/pandas-docs/stable/user_guide/indexing.html#returning-a-view-versus-a-copy\n",
            "  \n"
          ],
          "name": "stderr"
        }
      ]
    },
    {
      "cell_type": "code",
      "metadata": {
        "id": "MWATXXb_PtlQ"
      },
      "source": [
        ""
      ],
      "execution_count": null,
      "outputs": []
    }
  ]
}